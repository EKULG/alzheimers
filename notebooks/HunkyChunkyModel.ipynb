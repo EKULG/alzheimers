{
 "cells": [
  {
   "cell_type": "code",
   "execution_count": 1,
   "metadata": {
    "colab": {
     "base_uri": "https://localhost:8080/"
    },
    "id": "m8enbjUzBEvP",
    "outputId": "c237a4ae-1733-44fd-d8c7-6a4bcf7edce7"
   },
   "outputs": [
    {
     "name": "stdout",
     "output_type": "stream",
     "text": [
      "Drive already mounted at /content/drive/; to attempt to forcibly remount, call drive.mount(\"/content/drive/\", force_remount=True).\n"
     ]
    }
   ],
   "source": [
    "# Connecting to google drive\n",
    "from google.colab import drive\n",
    "drive.mount('/content/drive/')"
   ]
  },
  {
   "cell_type": "code",
   "execution_count": 1,
   "metadata": {
    "id": "cYvkg2nTBMEW"
   },
   "outputs": [],
   "source": [
    "# Imports - may not all \n",
    "import pandas as pd\n",
    "import numpy as np\n",
    "import matplotlib.pyplot as plt\n",
    "import tensorflow as tf\n",
    "import seaborn as sns\n",
    "from tensorflow.keras import Sequential, layers\n",
    "from tensorflow.keras.callbacks import EarlyStopping, ReduceLROnPlateau\n",
    "from sklearn.metrics import confusion_matrix\n",
    "from sklearn.metrics import ConfusionMatrixDisplay\n",
    "from sklearn.metrics import classification_report\n",
    "from tensorflow.keras.backend import expand_dims\n",
    "from tensorflow.keras.preprocessing import image_dataset_from_directory\n",
    "from tensorflow.keras.preprocessing.image import ImageDataGenerator\n",
    "from tensorflow.keras.applications.densenet import DenseNet121\n",
    "from tensorflow.keras.layers import BatchNormalization\n",
    "from tensorflow.keras.layers import Dropout"
   ]
  },
  {
   "cell_type": "code",
   "execution_count": 3,
   "metadata": {},
   "outputs": [
    {
     "name": "stdout",
     "output_type": "stream",
     "text": [
      "/Users/LG/code/katarzyna-kupczyk/alzheimers_final_project/notebooks\r\n"
     ]
    }
   ],
   "source": [
    "!pwd"
   ]
  },
  {
   "cell_type": "code",
   "execution_count": 7,
   "metadata": {
    "colab": {
     "base_uri": "https://localhost:8080/"
    },
    "id": "6l9r2v77BpCY",
    "outputId": "a42d41d6-f222-4d60-b8e5-d703652e3625"
   },
   "outputs": [
    {
     "name": "stdout",
     "output_type": "stream",
     "text": [
      "Found 4098 images belonging to 4 classes.\n",
      "Found 1023 images belonging to 4 classes.\n"
     ]
    }
   ],
   "source": [
    "# Importing data, normalising data, (not augmenting data - hashed out), for train and val set \n",
    "datagen = ImageDataGenerator(\n",
    "    rescale = 1./255, \n",
    "    # rotation_range = 5,\n",
    "    # zoom_range = 0.1,\n",
    "    # brightness_range = (0.95, 0.95),\n",
    "    # horizontal_flip = True,\n",
    "    # vertical_flip = True,\n",
    "    data_format = 'channels_last',\n",
    "    validation_split = 0.2,\n",
    "    dtype = tf.float32\n",
    ")\n",
    "\n",
    "train_generator = datagen.flow_from_directory(\n",
    "    '/Users/LG/code/katarzyna-kupczyk/alzheimers_final_project/raw_data/AlzheimersDataset/train',\n",
    "    target_size = (224, 224),\n",
    "    batch_size = (32),\n",
    "    class_mode = 'categorical',\n",
    "    shuffle = True,\n",
    "    subset = 'training',\n",
    "    seed = 123\n",
    ")\n",
    "\n",
    "validation_generator = datagen.flow_from_directory(\n",
    "    '/Users/LG/code/katarzyna-kupczyk/alzheimers_final_project/raw_data/AlzheimersDataset/train',\n",
    "    target_size = (224, 224),\n",
    "    batch_size = (32),\n",
    "    class_mode = 'categorical',\n",
    "    shuffle = True,\n",
    "    subset = 'validation',\n",
    "    seed = 123\n",
    ")"
   ]
  },
  {
   "cell_type": "code",
   "execution_count": null,
   "metadata": {
    "colab": {
     "base_uri": "https://localhost:8080/"
    },
    "id": "mdjAYWXFCJLf",
    "outputId": "0acef8b8-5805-4c3d-f5ca-3527cda42ff9"
   },
   "outputs": [],
   "source": [
    "# Importing data, normalising data, (not augmenting data - hashed out), for test set \n",
    "datagen2 = ImageDataGenerator(\n",
    "    rescale = 1./255, \n",
    "    # rotation_range = 5,\n",
    "    # zoom_range = (0.90, 0.90),\n",
    "    # brightness_range = (0.95, 0.95),\n",
    "    # horizontal_flip = True,\n",
    "    # vertical_flip = True,\n",
    "    data_format = 'channels_last',\n",
    "    validation_split = 0.0,\n",
    "    dtype = tf.float32\n",
    ")\n",
    "\n",
    "test_generator = datagen2.flow_from_directory(\n",
    "    '/content/drive/MyDrive/LeWagon/raw_data/AlzheimersDataset/test',\n",
    "    target_size = (224, 224),\n",
    "    batch_size = (32),\n",
    "    class_mode = 'categorical',\n",
    "    shuffle = True,\n",
    "    seed = 123\n",
    ")"
   ]
  },
  {
   "cell_type": "code",
   "execution_count": null,
   "metadata": {
    "id": "0IRh49CVSiIc"
   },
   "outputs": [],
   "source": [
    "# AUTOTUNE = tf.data.experimental.AUTOTUNE\n",
    "# train_generator = train_generator.cache().prefetch(buffer_size=AUTOTUNE)\n",
    "# validation_generator = validation_generator.cache().prefetch(buffer_size=AUTOTUNE)"
   ]
  },
  {
   "cell_type": "code",
   "execution_count": null,
   "metadata": {
    "colab": {
     "base_uri": "https://localhost:8080/"
    },
    "id": "9B4uviNnCdQG",
    "outputId": "9503db2b-d0aa-4687-aa60-e4285564646f"
   },
   "outputs": [],
   "source": [
    "# # THE MODELLLLLL\n",
    "# DenseNet121 model\n",
    "base_model = DenseNet121(include_top=False, weights=\"imagenet\", input_shape=(224, 224, 3))\n",
    "base_model.trainable = False\n",
    "\n",
    "model = Sequential()\n",
    "model.add(base_model)\n",
    "model.add(layers.Flatten())\n",
    "model.add(layers.Dense(50, activation='relu'))\n",
    "model.add(layers.Dense(4, activation='softmax'))\n",
    "\n",
    "# Compiling\n",
    "model.compile(optimizer='adam', loss='categorical_crossentropy', metrics=['AUC', 'accuracy', 'Recall', 'Precision'])\n",
    "\n",
    "# Early stopping criterion\n",
    "# es = EarlyStopping(patience=15, restore_best_weights=True)\n",
    "rop = ReduceLROnPlateau(monitor='val_loss', factor=0.005, patience=15, restore_best_weights=True, min_lr=0.005)"
   ]
  },
  {
   "cell_type": "code",
   "execution_count": null,
   "metadata": {
    "colab": {
     "base_uri": "https://localhost:8080/"
    },
    "id": "w4yqZ48GDIOj",
    "outputId": "2724cf66-c856-4fe8-c706-2c96f7108376"
   },
   "outputs": [],
   "source": [
    "# Fitting the model\n",
    "model.fit(train_generator, validation_data=validation_generator, epochs=50, callbacks=[rop], verbose=1)"
   ]
  },
  {
   "cell_type": "code",
   "execution_count": 25,
   "metadata": {
    "colab": {
     "base_uri": "https://localhost:8080/"
    },
    "id": "5XFl-u0QDUEP",
    "outputId": "545946a0-2fe6-4db3-a0d4-494e28955d60"
   },
   "outputs": [
    {
     "name": "stdout",
     "output_type": "stream",
     "text": [
      "32/32 [==============================] - 6s 180ms/step - loss: 1.0879 - auc: 0.8369 - accuracy: 0.5503 - recall: 0.5239 - precision: 0.5589\n"
     ]
    },
    {
     "data": {
      "text/plain": [
       "[1.0879493951797485,\n",
       " 0.8369439840316772,\n",
       " 0.5503421425819397,\n",
       " 0.523949146270752,\n",
       " 0.5589155554771423]"
      ]
     },
     "execution_count": 25,
     "metadata": {},
     "output_type": "execute_result"
    }
   ],
   "source": [
    "# Test against validation generator\n",
    "model.evaluate(validation_generator)"
   ]
  },
  {
   "cell_type": "code",
   "execution_count": 26,
   "metadata": {
    "colab": {
     "base_uri": "https://localhost:8080/"
    },
    "id": "Ej_3Qx-PVRbM",
    "outputId": "dfc0a364-6a76-4e39-c90f-6e2009f4b89e"
   },
   "outputs": [
    {
     "name": "stdout",
     "output_type": "stream",
     "text": [
      "40/40 [==============================] - 7s 178ms/step - loss: 1.3454 - auc: 0.8058 - accuracy: 0.5160 - recall: 0.5082 - precision: 0.5263\n"
     ]
    },
    {
     "data": {
      "text/plain": [
       "[1.3453662395477295,\n",
       " 0.8057735562324524,\n",
       " 0.5160281658172607,\n",
       " 0.5082095265388489,\n",
       " 0.5263158082962036]"
      ]
     },
     "execution_count": 26,
     "metadata": {},
     "output_type": "execute_result"
    }
   ],
   "source": [
    "# Test against test generator\n",
    "model.evaluate(test_generator)"
   ]
  },
  {
   "cell_type": "code",
   "execution_count": null,
   "metadata": {
    "id": "tqyOr0BwDpye"
   },
   "outputs": [],
   "source": [
    "# Confusion matrix with validation generator\n",
    "\n",
    "y_pred = model.predict(validation_generator)\n",
    "\n",
    "CLASSES = [ 'MildDemented',\n",
    "            'ModerateDemented',\n",
    "            'NonDemented',\n",
    "            'VeryMildDemented']\n",
    "\n",
    "conf_arr = confusion_matrix(validation_generator.classes, np.argmax(y_pred, axis=-1))\n",
    "\n",
    "plt.figure(figsize=(8, 6), dpi=80, facecolor='w', edgecolor='k')\n",
    "\n",
    "ax = sns.heatmap(conf_arr, cmap='Greens', annot=True, fmt='d', xticklabels=CLASSES, yticklabels=CLASSES)\n",
    "\n",
    "plt.title('Alzheimer\\'s Diagnosis')\n",
    "plt.xlabel('Prediction')\n",
    "plt.ylabel('Truth')\n",
    "plt.show(ax)"
   ]
  },
  {
   "cell_type": "code",
   "execution_count": null,
   "metadata": {
    "id": "fVs9BJDXMn4I"
   },
   "outputs": [],
   "source": [
    "# Confusion matrix with test generator\n",
    "\n",
    "y_pred = model.predict(test_generator)\n",
    "\n",
    "CLASSES = [ 'MildDemented',\n",
    "            'ModerateDemented',\n",
    "            'NonDemented',\n",
    "            'VeryMildDemented']\n",
    "\n",
    "conf_arr = confusion_matrix(test_generator.classes, np.argmax(y_pred, axis=-1))\n",
    "\n",
    "plt.figure(figsize=(8, 6), dpi=80, facecolor='w', edgecolor='k')\n",
    "\n",
    "ax = sns.heatmap(conf_arr, cmap='Greens', annot=True, fmt='d', xticklabels=CLASSES, yticklabels=CLASSES)\n",
    "\n",
    "plt.title('Alzheimer\\'s Diagnosis')\n",
    "plt.xlabel('Prediction')\n",
    "plt.ylabel('Truth')\n",
    "plt.show(ax)"
   ]
  }
 ],
 "metadata": {
  "accelerator": "GPU",
  "colab": {
   "name": "HunkyChunkyModel.ipynb",
   "provenance": []
  },
  "kernelspec": {
   "display_name": "Python 3 (ipykernel)",
   "language": "python",
   "name": "python3"
  },
  "language_info": {
   "codemirror_mode": {
    "name": "ipython",
    "version": 3
   },
   "file_extension": ".py",
   "mimetype": "text/x-python",
   "name": "python",
   "nbconvert_exporter": "python",
   "pygments_lexer": "ipython3",
   "version": "3.8.6"
  },
  "toc": {
   "base_numbering": 1,
   "nav_menu": {},
   "number_sections": true,
   "sideBar": true,
   "skip_h1_title": false,
   "title_cell": "Table of Contents",
   "title_sidebar": "Contents",
   "toc_cell": false,
   "toc_position": {},
   "toc_section_display": true,
   "toc_window_display": false
  }
 },
 "nbformat": 4,
 "nbformat_minor": 1
}
